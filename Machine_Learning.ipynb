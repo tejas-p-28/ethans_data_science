{
  "nbformat": 4,
  "nbformat_minor": 0,
  "metadata": {
    "colab": {
      "provenance": []
    },
    "kernelspec": {
      "name": "python3",
      "display_name": "Python 3"
    },
    "language_info": {
      "name": "python"
    }
  },
  "cells": [
    {
      "cell_type": "markdown",
      "source": [
        "#standardization"
      ],
      "metadata": {
        "id": "FhAr5HBi7XAC"
      }
    },
    {
      "cell_type": "code",
      "execution_count": 8,
      "metadata": {
        "id": "__8itJN7kJww"
      },
      "outputs": [],
      "source": [
        "import numpy as np\n",
        "import pandas as pd\n",
        "import matplotlib.pyplot as plt\n",
        "from sklearn.preprocessing import StandardScaler"
      ]
    },
    {
      "cell_type": "code",
      "source": [
        "ages = np.array([15,18,20,24,16]).reshape(-1,1)"
      ],
      "metadata": {
        "id": "UBg6s55Z2SJ0"
      },
      "execution_count": 9,
      "outputs": []
    },
    {
      "cell_type": "code",
      "source": [
        "ages.shape"
      ],
      "metadata": {
        "colab": {
          "base_uri": "https://localhost:8080/"
        },
        "id": "P10GcXWV2ZnR",
        "outputId": "bd139183-565a-479b-ff14-12a5b525c1be"
      },
      "execution_count": 10,
      "outputs": [
        {
          "output_type": "execute_result",
          "data": {
            "text/plain": [
              "(5, 1)"
            ]
          },
          "metadata": {},
          "execution_count": 10
        }
      ]
    },
    {
      "cell_type": "code",
      "source": [
        "scaler = StandardScaler()"
      ],
      "metadata": {
        "id": "hYBCwsus2bCK"
      },
      "execution_count": 11,
      "outputs": []
    },
    {
      "cell_type": "code",
      "source": [
        "standardized_scale = scaler.fit_transform(ages)"
      ],
      "metadata": {
        "id": "T0AqvjdP2xxb"
      },
      "execution_count": 13,
      "outputs": []
    },
    {
      "cell_type": "code",
      "source": [
        "standardized_scale"
      ],
      "metadata": {
        "colab": {
          "base_uri": "https://localhost:8080/"
        },
        "id": "a8Lm08hJ20e0",
        "outputId": "18443dd2-ab3c-4dec-e1d8-c29e49a97a33"
      },
      "execution_count": 14,
      "outputs": [
        {
          "output_type": "execute_result",
          "data": {
            "text/plain": [
              "array([[-1.125 ],\n",
              "       [-0.1875],\n",
              "       [ 0.4375],\n",
              "       [ 1.6875],\n",
              "       [-0.8125]])"
            ]
          },
          "metadata": {},
          "execution_count": 14
        }
      ]
    },
    {
      "cell_type": "code",
      "source": [
        "mean_ages = np.mean(ages)\n",
        "std_ages = np.std(ages)"
      ],
      "metadata": {
        "id": "R5uXVJmV28OX"
      },
      "execution_count": 17,
      "outputs": []
    },
    {
      "cell_type": "code",
      "source": [
        "mean_standardized = np.mean(standardized_scale)\n",
        "std_standardized = np.std(standardized_scale)"
      ],
      "metadata": {
        "id": "WGBqyTvZ3MWn"
      },
      "execution_count": 18,
      "outputs": []
    },
    {
      "cell_type": "code",
      "source": [
        "print('mean_ages',mean_ages)\n",
        "print('std_ages',std_ages)\n",
        "print('mean_standardized',mean_standardized)\n",
        "print('std_standardized',std_standardized)"
      ],
      "metadata": {
        "colab": {
          "base_uri": "https://localhost:8080/"
        },
        "id": "B-5iYJZF3b2J",
        "outputId": "81ca0fc4-d119-4abc-99b0-5a33a030879d"
      },
      "execution_count": 19,
      "outputs": [
        {
          "output_type": "stream",
          "name": "stdout",
          "text": [
            "mean_ages 18.6\n",
            "std_ages 3.1999999999999997\n",
            "mean_standardized -4.2188474935755947e-16\n",
            "std_standardized 1.0\n"
          ]
        }
      ]
    },
    {
      "cell_type": "code",
      "source": [
        "if np.isclose(mean_standardized,0):\n",
        "    print('True')\n",
        "else:\n",
        "    print('False')"
      ],
      "metadata": {
        "colab": {
          "base_uri": "https://localhost:8080/"
        },
        "id": "CfR37p1R3gZL",
        "outputId": "d1bb21eb-bfd1-46d5-b274-50798b9838a7"
      },
      "execution_count": 21,
      "outputs": [
        {
          "output_type": "stream",
          "name": "stdout",
          "text": [
            "True\n"
          ]
        }
      ]
    },
    {
      "cell_type": "code",
      "source": [
        "if np.isclose(std_standardized,1):\n",
        "    print('True')\n",
        "else:\n",
        "    print('False')"
      ],
      "metadata": {
        "colab": {
          "base_uri": "https://localhost:8080/"
        },
        "id": "Wwr8XXPr30m6",
        "outputId": "d3a7c3c6-53f9-4a87-8fb2-d4d98f8726fb"
      },
      "execution_count": 22,
      "outputs": [
        {
          "output_type": "stream",
          "name": "stdout",
          "text": [
            "True\n"
          ]
        }
      ]
    },
    {
      "cell_type": "markdown",
      "source": [
        "#Normalization"
      ],
      "metadata": {
        "id": "W0XDjV_q7bXZ"
      }
    },
    {
      "cell_type": "code",
      "source": [
        "import numpy as np\n",
        "import pandas as pd\n",
        "from sklearn.preprocessing import MinMaxScaler"
      ],
      "metadata": {
        "id": "5FYIbxav7eED"
      },
      "execution_count": 24,
      "outputs": []
    },
    {
      "cell_type": "code",
      "source": [
        "ages = np.array([15,18,20,24,16]).reshape(-1,1)"
      ],
      "metadata": {
        "id": "BbLjF2TS7qHd"
      },
      "execution_count": 25,
      "outputs": []
    },
    {
      "cell_type": "code",
      "source": [
        "normalizer = MinMaxScaler()"
      ],
      "metadata": {
        "id": "akJjqmp27wtZ"
      },
      "execution_count": 26,
      "outputs": []
    },
    {
      "cell_type": "code",
      "source": [
        "normalized = normalizer.fit_transform(ages)"
      ],
      "metadata": {
        "id": "9Nxn9D8272F-"
      },
      "execution_count": 27,
      "outputs": []
    },
    {
      "cell_type": "code",
      "source": [
        "normalized"
      ],
      "metadata": {
        "colab": {
          "base_uri": "https://localhost:8080/"
        },
        "id": "QQSjGDrn794Y",
        "outputId": "1f6e7b78-8212-4c2e-9d1d-0dd5129042fa"
      },
      "execution_count": 28,
      "outputs": [
        {
          "output_type": "execute_result",
          "data": {
            "text/plain": [
              "array([[0.        ],\n",
              "       [0.33333333],\n",
              "       [0.55555556],\n",
              "       [1.        ],\n",
              "       [0.11111111]])"
            ]
          },
          "metadata": {},
          "execution_count": 28
        }
      ]
    },
    {
      "cell_type": "code",
      "source": [],
      "metadata": {
        "id": "kbHUxzVd7_MH"
      },
      "execution_count": null,
      "outputs": []
    }
  ]
}