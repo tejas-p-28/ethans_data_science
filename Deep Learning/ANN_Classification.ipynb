{
  "nbformat": 4,
  "nbformat_minor": 0,
  "metadata": {
    "colab": {
      "provenance": []
    },
    "kernelspec": {
      "name": "python3",
      "display_name": "Python 3"
    },
    "language_info": {
      "name": "python"
    }
  },
  "cells": [
    {
      "cell_type": "code",
      "execution_count": 31,
      "metadata": {
        "id": "hA0LHAYmrFWq"
      },
      "outputs": [],
      "source": [
        "import numpy as np\n",
        "import pandas as pd\n",
        "import tensorflow as tf\n",
        "from sklearn.datasets import load_iris\n",
        "from sklearn.model_selection import train_test_split\n",
        "from sklearn.preprocessing import StandardScaler\n",
        "from sklearn.metrics import accuracy_score\n"
      ]
    },
    {
      "cell_type": "code",
      "source": [
        "iris = load_iris()\n",
        "X, y = iris.data, iris.target"
      ],
      "metadata": {
        "id": "y-mTsNZ6rlNv"
      },
      "execution_count": 32,
      "outputs": []
    },
    {
      "cell_type": "code",
      "source": [
        "X_train, X_test, y_train, y_test = train_test_split(X, y, test_size=0.2, random_state=42)"
      ],
      "metadata": {
        "id": "YggKevl2sEq5"
      },
      "execution_count": 33,
      "outputs": []
    },
    {
      "cell_type": "code",
      "source": [
        "scaler = StandardScaler()\n",
        "X_train_scaled = scaler.fit_transform(X_train)\n",
        "X_test_scaled = scaler.transform(X_test)"
      ],
      "metadata": {
        "id": "lR6L3tFWsOtM"
      },
      "execution_count": 34,
      "outputs": []
    },
    {
      "cell_type": "code",
      "source": [
        "model = tf.keras.Sequential([\n",
        "    tf.keras.layers.Dense(32, activation='relu', input_shape=(X_train.shape[1],)),\n",
        "    tf.keras.layers.Dense(48, activation='relu'),\n",
        "    tf.keras.layers.Dense(3, activation='softmax')\n",
        "])"
      ],
      "metadata": {
        "colab": {
          "base_uri": "https://localhost:8080/"
        },
        "id": "n2Ep0Ul0s5X7",
        "outputId": "b1ac128c-972a-4dfd-9ca2-ad32e0921759"
      },
      "execution_count": 35,
      "outputs": [
        {
          "output_type": "stream",
          "name": "stderr",
          "text": [
            "/usr/local/lib/python3.10/dist-packages/keras/src/layers/core/dense.py:87: UserWarning: Do not pass an `input_shape`/`input_dim` argument to a layer. When using Sequential models, prefer using an `Input(shape)` object as the first layer in the model instead.\n",
            "  super().__init__(activity_regularizer=activity_regularizer, **kwargs)\n"
          ]
        }
      ]
    },
    {
      "cell_type": "code",
      "source": [
        "model.compile(optimizer='adam', loss='sparse_categorical_crossentropy', metrics=['accuracy'])"
      ],
      "metadata": {
        "id": "CXzYn4szuDTp"
      },
      "execution_count": 38,
      "outputs": []
    },
    {
      "cell_type": "code",
      "source": [
        "model.fit(X_train_scaled, y_train, epochs=50, batch_size=8, verbose=2)"
      ],
      "metadata": {
        "colab": {
          "base_uri": "https://localhost:8080/"
        },
        "id": "J0FlIIcru6Ha",
        "outputId": "fd4ebc34-282b-4119-90d0-e0663ceef7ef"
      },
      "execution_count": 39,
      "outputs": [
        {
          "output_type": "stream",
          "name": "stdout",
          "text": [
            "Epoch 1/50\n",
            "15/15 - 3s - 178ms/step - accuracy: 0.4500 - loss: 1.0104\n",
            "Epoch 2/50\n",
            "15/15 - 0s - 13ms/step - accuracy: 0.6833 - loss: 0.7991\n",
            "Epoch 3/50\n",
            "15/15 - 0s - 23ms/step - accuracy: 0.7750 - loss: 0.6536\n",
            "Epoch 4/50\n",
            "15/15 - 0s - 22ms/step - accuracy: 0.7917 - loss: 0.5534\n",
            "Epoch 5/50\n",
            "15/15 - 0s - 19ms/step - accuracy: 0.8000 - loss: 0.4878\n",
            "Epoch 6/50\n",
            "15/15 - 0s - 9ms/step - accuracy: 0.8167 - loss: 0.4334\n",
            "Epoch 7/50\n",
            "15/15 - 0s - 20ms/step - accuracy: 0.8167 - loss: 0.3913\n",
            "Epoch 8/50\n",
            "15/15 - 0s - 22ms/step - accuracy: 0.8500 - loss: 0.3582\n",
            "Epoch 9/50\n",
            "15/15 - 0s - 20ms/step - accuracy: 0.8583 - loss: 0.3310\n",
            "Epoch 10/50\n",
            "15/15 - 0s - 20ms/step - accuracy: 0.8583 - loss: 0.3072\n",
            "Epoch 11/50\n",
            "15/15 - 0s - 20ms/step - accuracy: 0.8583 - loss: 0.2939\n",
            "Epoch 12/50\n",
            "15/15 - 1s - 38ms/step - accuracy: 0.8833 - loss: 0.2713\n",
            "Epoch 13/50\n",
            "15/15 - 0s - 21ms/step - accuracy: 0.9167 - loss: 0.2545\n",
            "Epoch 14/50\n",
            "15/15 - 0s - 17ms/step - accuracy: 0.9250 - loss: 0.2403\n",
            "Epoch 15/50\n",
            "15/15 - 0s - 17ms/step - accuracy: 0.9333 - loss: 0.2257\n",
            "Epoch 16/50\n",
            "15/15 - 0s - 20ms/step - accuracy: 0.9500 - loss: 0.2126\n",
            "Epoch 17/50\n",
            "15/15 - 0s - 8ms/step - accuracy: 0.9500 - loss: 0.1993\n",
            "Epoch 18/50\n",
            "15/15 - 0s - 12ms/step - accuracy: 0.9500 - loss: 0.1894\n",
            "Epoch 19/50\n",
            "15/15 - 0s - 17ms/step - accuracy: 0.9500 - loss: 0.1760\n",
            "Epoch 20/50\n",
            "15/15 - 0s - 10ms/step - accuracy: 0.9583 - loss: 0.1685\n",
            "Epoch 21/50\n",
            "15/15 - 0s - 9ms/step - accuracy: 0.9583 - loss: 0.1560\n",
            "Epoch 22/50\n",
            "15/15 - 0s - 16ms/step - accuracy: 0.9583 - loss: 0.1495\n",
            "Epoch 23/50\n",
            "15/15 - 0s - 11ms/step - accuracy: 0.9417 - loss: 0.1431\n",
            "Epoch 24/50\n",
            "15/15 - 0s - 6ms/step - accuracy: 0.9667 - loss: 0.1340\n",
            "Epoch 25/50\n",
            "15/15 - 0s - 8ms/step - accuracy: 0.9667 - loss: 0.1284\n",
            "Epoch 26/50\n",
            "15/15 - 0s - 3ms/step - accuracy: 0.9500 - loss: 0.1228\n",
            "Epoch 27/50\n",
            "15/15 - 0s - 3ms/step - accuracy: 0.9667 - loss: 0.1167\n",
            "Epoch 28/50\n",
            "15/15 - 0s - 4ms/step - accuracy: 0.9667 - loss: 0.1127\n",
            "Epoch 29/50\n",
            "15/15 - 0s - 6ms/step - accuracy: 0.9667 - loss: 0.1069\n",
            "Epoch 30/50\n",
            "15/15 - 0s - 22ms/step - accuracy: 0.9500 - loss: 0.1054\n",
            "Epoch 31/50\n",
            "15/15 - 0s - 20ms/step - accuracy: 0.9750 - loss: 0.0998\n",
            "Epoch 32/50\n",
            "15/15 - 0s - 7ms/step - accuracy: 0.9667 - loss: 0.0967\n",
            "Epoch 33/50\n",
            "15/15 - 0s - 11ms/step - accuracy: 0.9667 - loss: 0.0929\n",
            "Epoch 34/50\n",
            "15/15 - 0s - 20ms/step - accuracy: 0.9750 - loss: 0.0943\n",
            "Epoch 35/50\n",
            "15/15 - 0s - 11ms/step - accuracy: 0.9750 - loss: 0.0871\n",
            "Epoch 36/50\n",
            "15/15 - 0s - 19ms/step - accuracy: 0.9750 - loss: 0.0873\n",
            "Epoch 37/50\n",
            "15/15 - 0s - 20ms/step - accuracy: 0.9833 - loss: 0.0831\n",
            "Epoch 38/50\n",
            "15/15 - 0s - 15ms/step - accuracy: 0.9667 - loss: 0.0828\n",
            "Epoch 39/50\n",
            "15/15 - 0s - 7ms/step - accuracy: 0.9750 - loss: 0.0825\n",
            "Epoch 40/50\n",
            "15/15 - 0s - 11ms/step - accuracy: 0.9833 - loss: 0.0771\n",
            "Epoch 41/50\n",
            "15/15 - 0s - 8ms/step - accuracy: 0.9667 - loss: 0.0786\n",
            "Epoch 42/50\n",
            "15/15 - 0s - 7ms/step - accuracy: 0.9750 - loss: 0.0742\n",
            "Epoch 43/50\n",
            "15/15 - 0s - 20ms/step - accuracy: 0.9833 - loss: 0.0737\n",
            "Epoch 44/50\n",
            "15/15 - 0s - 5ms/step - accuracy: 0.9833 - loss: 0.0718\n",
            "Epoch 45/50\n",
            "15/15 - 0s - 11ms/step - accuracy: 0.9750 - loss: 0.0723\n",
            "Epoch 46/50\n",
            "15/15 - 0s - 5ms/step - accuracy: 0.9750 - loss: 0.0734\n",
            "Epoch 47/50\n",
            "15/15 - 0s - 6ms/step - accuracy: 0.9750 - loss: 0.0722\n",
            "Epoch 48/50\n",
            "15/15 - 0s - 7ms/step - accuracy: 0.9667 - loss: 0.0686\n",
            "Epoch 49/50\n",
            "15/15 - 0s - 6ms/step - accuracy: 0.9833 - loss: 0.0688\n",
            "Epoch 50/50\n",
            "15/15 - 0s - 10ms/step - accuracy: 0.9750 - loss: 0.0664\n"
          ]
        },
        {
          "output_type": "execute_result",
          "data": {
            "text/plain": [
              "<keras.src.callbacks.history.History at 0x7aa1f1c87940>"
            ]
          },
          "metadata": {},
          "execution_count": 39
        }
      ]
    },
    {
      "cell_type": "code",
      "source": [
        "loss, accuracy = model.evaluate(X_test_scaled, y_test)\n",
        "print(f'Test loss:', loss)\n",
        "print(f'accuracy:', accuracy)"
      ],
      "metadata": {
        "id": "XTfJM3klvFFV",
        "colab": {
          "base_uri": "https://localhost:8080/"
        },
        "outputId": "aca809bc-5273-4c65-de47-3f12887d6437"
      },
      "execution_count": 40,
      "outputs": [
        {
          "output_type": "stream",
          "name": "stdout",
          "text": [
            "\u001b[1m1/1\u001b[0m \u001b[32m━━━━━━━━━━━━━━━━━━━━\u001b[0m\u001b[37m\u001b[0m \u001b[1m0s\u001b[0m 236ms/step - accuracy: 1.0000 - loss: 0.0397\n",
            "Test loss: 0.03969474136829376\n",
            "accuracy: 1.0\n"
          ]
        }
      ]
    },
    {
      "cell_type": "code",
      "source": [
        "pred = model.predict(X_test_scaled)\n",
        "predicted_labels = np.argmax(pred, axis=1)"
      ],
      "metadata": {
        "colab": {
          "base_uri": "https://localhost:8080/"
        },
        "id": "PxrSOha-zDIf",
        "outputId": "3b7540da-9be7-4f5c-bcbd-bcdf0573ae27"
      },
      "execution_count": 41,
      "outputs": [
        {
          "output_type": "stream",
          "name": "stdout",
          "text": [
            "\u001b[1m1/1\u001b[0m \u001b[32m━━━━━━━━━━━━━━━━━━━━\u001b[0m\u001b[37m\u001b[0m \u001b[1m0s\u001b[0m 127ms/step\n"
          ]
        }
      ]
    },
    {
      "cell_type": "code",
      "source": [
        "predicted_labels, y_test"
      ],
      "metadata": {
        "colab": {
          "base_uri": "https://localhost:8080/"
        },
        "id": "Md8tF2QozMKm",
        "outputId": "12ed8109-90b3-4eeb-e29d-6f329fc8ce7c"
      },
      "execution_count": 43,
      "outputs": [
        {
          "output_type": "execute_result",
          "data": {
            "text/plain": [
              "(array([1, 0, 2, 1, 1, 0, 1, 2, 1, 1, 2, 0, 0, 0, 0, 1, 2, 1, 1, 2, 0, 2,\n",
              "        0, 2, 2, 2, 2, 2, 0, 0]),\n",
              " array([1, 0, 2, 1, 1, 0, 1, 2, 1, 1, 2, 0, 0, 0, 0, 1, 2, 1, 1, 2, 0, 2,\n",
              "        0, 2, 2, 2, 2, 2, 0, 0]))"
            ]
          },
          "metadata": {},
          "execution_count": 43
        }
      ]
    },
    {
      "cell_type": "code",
      "source": [],
      "metadata": {
        "id": "3W0QmTR2zQSG"
      },
      "execution_count": null,
      "outputs": []
    }
  ]
}