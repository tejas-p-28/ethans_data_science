{
 "cells": [
  {
   "cell_type": "code",
   "execution_count": 3,
   "id": "7cff7366-009a-4b63-b059-4804e9b7c0e3",
   "metadata": {},
   "outputs": [
    {
     "name": "stdout",
     "output_type": "stream",
     "text": [
      "24.0\n"
     ]
    }
   ],
   "source": [
    "def variance_calculator(data):\n",
    "    if len(data) == 0:\n",
    "        return 0\n",
    "    mean = sum(data)/len(data)\n",
    "    variance = sum((x-mean)**2 for x in data)/len(data)\n",
    "    return variance\n",
    "\n",
    "data = [10, 12, 23, 23, 16, 23, 21, 16]\n",
    "v = variance_calculator(data)\n",
    "print(v)"
   ]
  },
  {
   "cell_type": "code",
   "execution_count": 9,
   "id": "2be32aa6-85e1-4e83-a59e-5cbcd2436b88",
   "metadata": {},
   "outputs": [
    {
     "name": "stdout",
     "output_type": "stream",
     "text": [
      "4.898979485566356\n"
     ]
    }
   ],
   "source": [
    "from math import *\n",
    "def standard_deviation(data):\n",
    "    if len(data)==0:\n",
    "        return 0\n",
    "    mean = sum(data)/len(data)\n",
    "    variance = sum((x-mean)**2 for x in data)/len(data)\n",
    "    std_dev = math.sqrt(variance)\n",
    "    return std_dev\n",
    "data = [10, 12, 23, 23, 16, 23, 21, 16]\n",
    "s = standard_deviation(data)\n",
    "print(s)"
   ]
  },
  {
   "cell_type": "code",
   "execution_count": null,
   "id": "f42d899f-a06d-4cad-8196-f78831a0c792",
   "metadata": {},
   "outputs": [],
   "source": []
  }
 ],
 "metadata": {
  "kernelspec": {
   "display_name": "Python 3 (ipykernel)",
   "language": "python",
   "name": "python3"
  },
  "language_info": {
   "codemirror_mode": {
    "name": "ipython",
    "version": 3
   },
   "file_extension": ".py",
   "mimetype": "text/x-python",
   "name": "python",
   "nbconvert_exporter": "python",
   "pygments_lexer": "ipython3",
   "version": "3.12.2"
  }
 },
 "nbformat": 4,
 "nbformat_minor": 5
}
