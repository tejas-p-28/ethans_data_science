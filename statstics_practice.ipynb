{
 "cells": [
  {
   "cell_type": "code",
   "execution_count": 3,
   "id": "7cff7366-009a-4b63-b059-4804e9b7c0e3",
   "metadata": {},
   "outputs": [
    {
     "name": "stdout",
     "output_type": "stream",
     "text": [
      "24.0\n"
     ]
    }
   ],
   "source": [
    "def variance_calculator(data):\n",
    "    if len(data) == 0:\n",
    "        return 0\n",
    "    mean = sum(data)/len(data)\n",
    "    variance = sum((x-mean)**2 for x in data)/len(data)\n",
    "    return variance\n",
    "\n",
    "data = [10, 12, 23, 23, 16, 23, 21, 16]\n",
    "v = variance_calculator(data)\n",
    "print(v)"
   ]
  },
  {
   "cell_type": "code",
   "execution_count": 9,
   "id": "2be32aa6-85e1-4e83-a59e-5cbcd2436b88",
   "metadata": {},
   "outputs": [
    {
     "name": "stdout",
     "output_type": "stream",
     "text": [
      "4.898979485566356\n"
     ]
    }
   ],
   "source": [
    "from math import *\n",
    "def standard_deviation(data):\n",
    "    if len(data)==0:\n",
    "        return 0\n",
    "    mean = sum(data)/len(data)\n",
    "    variance = sum((x-mean)**2 for x in data)/len(data)\n",
    "    std_dev = math.sqrt(variance)\n",
    "    return std_dev\n",
    "data = [10, 12, 23, 23, 16, 23, 21, 16]\n",
    "s = standard_deviation(data)\n",
    "print(s)"
   ]
  },
  {
   "cell_type": "code",
   "execution_count": 14,
   "id": "f42d899f-a06d-4cad-8196-f78831a0c792",
   "metadata": {},
   "outputs": [
    {
     "name": "stdout",
     "output_type": "stream",
     "text": [
      "2.2666666666666666\n"
     ]
    }
   ],
   "source": [
    "def covariance(data_x,data_y):\n",
    "    n=len(data_x)\n",
    "    mean_x = sum(data_x)/len(data_x)\n",
    "    mean_y = sum(data_y)/len(data_y)\n",
    "    covariance = sum((data_x[i]-mean_x)*(data_y[i]-mean_y)for i in range(n))/(n-1)\n",
    "    return covariance\n",
    "data_x = [2.1, 2.5, 3.6, 4.0]\n",
    "data_y = [8, 10, 12, 14]\n",
    "c = covariance(data_x,data_y)\n",
    "print(c)"
   ]
  },
  {
   "cell_type": "code",
   "execution_count": 18,
   "id": "30409ac2-5887-442c-a4bb-711776a6160e",
   "metadata": {},
   "outputs": [],
   "source": [
    "import numpy as np\n",
    "import pandas as pd\n",
    "import matplotlib as plt\n",
    "import seaborn as sns\n",
    "from sklearn.preprocessing import StandardScaler"
   ]
  },
  {
   "cell_type": "code",
   "execution_count": 19,
   "id": "5b55e577-3314-4eae-948d-431f41ff36b8",
   "metadata": {},
   "outputs": [],
   "source": [
    "ages = np.array([45,26,39,85,16]).reshape(-1,1)"
   ]
  },
  {
   "cell_type": "code",
   "execution_count": 21,
   "id": "b29a2c14-c3a3-4674-ad32-35e94596b937",
   "metadata": {},
   "outputs": [],
   "source": [
    "scaler = StandardScaler()"
   ]
  },
  {
   "cell_type": "code",
   "execution_count": 22,
   "id": "3d03da24-32b0-459d-ba19-c4c64264288f",
   "metadata": {},
   "outputs": [],
   "source": [
    "standardized_ages = scaler.fit_transform(ages)"
   ]
  },
  {
   "cell_type": "code",
   "execution_count": 23,
   "id": "5e2e8fcd-5ba8-44f1-8d4a-f5971b755c64",
   "metadata": {},
   "outputs": [
    {
     "data": {
      "text/plain": [
       "array([[ 0.11834696],\n",
       "       [-0.68472169],\n",
       "       [-0.13525367],\n",
       "       [ 1.80901779],\n",
       "       [-1.1073894 ]])"
      ]
     },
     "execution_count": 23,
     "metadata": {},
     "output_type": "execute_result"
    }
   ],
   "source": [
    "standardized_ages"
   ]
  },
  {
   "cell_type": "code",
   "execution_count": 26,
   "id": "fdc8d8ed-247c-4638-91b5-40ffd50f35d7",
   "metadata": {},
   "outputs": [],
   "source": [
    "mean = np.mean(ages)\n",
    "std_dev = np.std(ages)"
   ]
  },
  {
   "cell_type": "code",
   "execution_count": 32,
   "id": "c7f0a895-1467-46e7-ae65-e0c92bd1f809",
   "metadata": {},
   "outputs": [
    {
     "name": "stdout",
     "output_type": "stream",
     "text": [
      "42.2\n",
      "23.659247663440187\n",
      "[ 0.11834696 -0.68472169 -0.13525367  1.80901779 -1.1073894 ]\n"
     ]
    }
   ],
   "source": [
    "print(mean)\n",
    "print(std_dev)\n",
    "print(standardized_ages.flatten())"
   ]
  },
  {
   "cell_type": "code",
   "execution_count": 36,
   "id": "79047e49-f18e-4276-b1a2-4a68f34f2c2f",
   "metadata": {},
   "outputs": [],
   "source": [
    "standardized_values = standardized_ages.flatten().tolist()"
   ]
  },
  {
   "cell_type": "code",
   "execution_count": 37,
   "id": "2d771fd6-afe8-41bf-8673-a5766964ae1b",
   "metadata": {},
   "outputs": [
    {
     "data": {
      "text/plain": [
       "[0.1183469584422475,\n",
       " -0.6847216881301471,\n",
       " -0.13525366679114026,\n",
       " 1.8090177933314993,\n",
       " -1.10738939685246]"
      ]
     },
     "execution_count": 37,
     "metadata": {},
     "output_type": "execute_result"
    }
   ],
   "source": [
    "standardized_values"
   ]
  },
  {
   "cell_type": "code",
   "execution_count": 41,
   "id": "51d2a1d8-96c6-42e9-b611-172daf2f93cb",
   "metadata": {},
   "outputs": [],
   "source": [
    "standardized_mean = np.mean(standardized_ages)\n",
    "standardized_std_dev = np.std(standardized_ages)"
   ]
  },
  {
   "cell_type": "code",
   "execution_count": 42,
   "id": "093b42a1-ad91-42ee-a73c-24eaa32638c4",
   "metadata": {},
   "outputs": [
    {
     "name": "stdout",
     "output_type": "stream",
     "text": [
      "-1.3322676295501878e-16\n",
      "1.0\n"
     ]
    }
   ],
   "source": [
    "print(standardized_mean)\n",
    "print(standardized_std_dev)"
   ]
  },
  {
   "cell_type": "code",
   "execution_count": 11,
   "id": "fbee8f92-e500-44a5-8974-067b77d2ee82",
   "metadata": {},
   "outputs": [
    {
     "name": "stdout",
     "output_type": "stream",
     "text": [
      "1.0\n"
     ]
    }
   ],
   "source": [
    "import numpy as np\n",
    "def correlation(x,y):\n",
    "    mean_x = np.mean(x)\n",
    "    mean_y = np.mean(y)\n",
    "    covariance = np.sum((x- mean_x)*(y-mean_y))\n",
    "    std_x = np.sqrt(np.sum((x-mean_x)**2))\n",
    "    std_y = np.sqrt(np.sum((y-mean_y)**2))\n",
    "    return covariance/(std_x*std_y)\n",
    "x = np.array([10, 20, 30, 40, 50])\n",
    "y = np.array([15, 25, 35, 45, 55])\n",
    "corr_value = correlation(x,y)\n",
    "print(corr_value)"
   ]
  },
  {
   "cell_type": "code",
   "execution_count": 5,
   "id": "a21dfbd1-6ad2-4bc0-b0b5-e6600398c4dc",
   "metadata": {},
   "outputs": [
    {
     "name": "stdout",
     "output_type": "stream",
     "text": [
      "3.44\n"
     ]
    }
   ],
   "source": [
    "import numpy as np\n",
    "def variance(data):\n",
    "    mean = sum(data)/len(data)\n",
    "    variance = sum((x - mean)**2 for x in data) / (len(data))\n",
    "    return variance\n",
    "\n",
    "data = [4,6,3,7,8]\n",
    "v = variance(data)\n",
    "\n",
    "print(v)"
   ]
  },
  {
   "cell_type": "code",
   "execution_count": null,
   "id": "f4877dd0-7c84-42f2-8d16-36c9efb5154c",
   "metadata": {},
   "outputs": [],
   "source": []
  }
 ],
 "metadata": {
  "kernelspec": {
   "display_name": "Python 3 (ipykernel)",
   "language": "python",
   "name": "python3"
  },
  "language_info": {
   "codemirror_mode": {
    "name": "ipython",
    "version": 3
   },
   "file_extension": ".py",
   "mimetype": "text/x-python",
   "name": "python",
   "nbconvert_exporter": "python",
   "pygments_lexer": "ipython3",
   "version": "3.12.2"
  }
 },
 "nbformat": 4,
 "nbformat_minor": 5
}
